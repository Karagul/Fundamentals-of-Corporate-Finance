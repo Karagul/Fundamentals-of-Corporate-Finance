{
 "cells": [
  {
   "cell_type": "markdown",
   "metadata": {},
   "source": [
    "## Chapter 12: Lessons from Capital Market History\n",
    "\n",
    "Key Topics:\n",
    "* Returns\n",
    "* Risks\n",
    "* Historical Record\n",
    "* Market Efficiency\n",
    "\n",
    "Risk = variance or standard deviation\n",
    "Reward = Return"
   ]
  },
  {
   "cell_type": "markdown",
   "metadata": {},
   "source": [
    "#### Returns (in $)\n",
    "\n",
    "$TR_t = p_{t+1}-p_t+I_t$, where _p_ is price and _I_ is usually dividend income (for equity positions) or coupon income (for debt holdings)\n",
    "\n",
    "#### Returns (in %)\n",
    "\n",
    "$R_{t+1} = (p_{t+1}-p_t+D_t)/ P_t$ \n",
    "* Percentage Return = Capital Gains/Loss Yield + Dividends Yield\n",
    "\n",
    "$CGY = (p_{t+1}-p_t)/P_t$\n",
    "\n",
    "$DY = D_t/P_t$\n",
    "\n",
    "#### Fisher Equation\n",
    "\n",
    "$1+R=(1+r)(1+h)$, where\n",
    "    \n",
    "   **R** = nominal return\n",
    "    \n",
    "   **r** = real rate of return\n",
    "    \n",
    "   **h** = rate of inflation"
   ]
  },
  {
   "cell_type": "markdown",
   "metadata": {},
   "source": [
    "### Using financial data to compare performance\n",
    "\n",
    "* make sure that all data given use the same time periods\n",
    "\n",
    "(refer to textbook's table observing financial asset performance ranging from 1948 - 2014)"
   ]
  },
  {
   "cell_type": "code",
   "execution_count": null,
   "metadata": {},
   "outputs": [],
   "source": []
  }
 ],
 "metadata": {
  "kernelspec": {
   "display_name": "Python 3",
   "language": "python",
   "name": "python3"
  },
  "language_info": {
   "codemirror_mode": {
    "name": "ipython",
    "version": 3
   },
   "file_extension": ".py",
   "mimetype": "text/x-python",
   "name": "python",
   "nbconvert_exporter": "python",
   "pygments_lexer": "ipython3",
   "version": "3.7.6"
  }
 },
 "nbformat": 4,
 "nbformat_minor": 4
}
