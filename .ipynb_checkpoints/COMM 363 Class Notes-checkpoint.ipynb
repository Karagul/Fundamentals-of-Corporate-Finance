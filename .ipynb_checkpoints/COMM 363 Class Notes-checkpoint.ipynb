{
 "cells": [
  {
   "cell_type": "markdown",
   "metadata": {},
   "source": [
    "## Chapter 12: Lessons from Capital Market History\n",
    "\n"
   ]
  },
  {
   "cell_type": "markdown",
   "metadata": {},
   "source": [
    "#### Returns (in $)\n",
    "\n",
    "$TR_t = p_{t+1}-p_t+I_t$\n",
    "\n",
    "#### Returns (in %)\n",
    "\n",
    "$R_{t+1} = (p_{t+1}-p_t+D_t)/P_t$ \n",
    "* Percentage Return = Capital Gains Yield + Dividends Yield\n",
    "\n",
    "$CGY = (p_{t+1}-p_t)/P_t$\n",
    "\n",
    "$DY = D_t/P_t$"
   ]
  },
  {
   "cell_type": "code",
   "execution_count": null,
   "metadata": {},
   "outputs": [],
   "source": []
  }
 ],
 "metadata": {
  "kernelspec": {
   "display_name": "Python 3",
   "language": "python",
   "name": "python3"
  },
  "language_info": {
   "codemirror_mode": {
    "name": "ipython",
    "version": 3
   },
   "file_extension": ".py",
   "mimetype": "text/x-python",
   "name": "python",
   "nbconvert_exporter": "python",
   "pygments_lexer": "ipython3",
   "version": "3.7.6"
  }
 },
 "nbformat": 4,
 "nbformat_minor": 4
}
