{
 "cells": [
  {
   "cell_type": "markdown",
   "metadata": {},
   "source": [
    "## Chapter 12: Lessons from Capital Market History\n",
    "\n",
    "Key Topics:\n",
    "* Returns\n",
    "* Risks\n",
    "* Historical Record\n",
    "* Market Efficiency\n",
    "\n",
    "Risk = variance or standard deviation\n",
    "Reward = Return"
   ]
  },
  {
   "cell_type": "markdown",
   "metadata": {},
   "source": [
    "#### Returns (in $)\n",
    "\n",
    "$TR_t = p_{t+1}-p_t+I_t$, where _p_ is price and _I_ is usually dividend income (for equity positions) or coupon income (for debt holdings)\n",
    "\n",
    "#### Returns (in %)\n",
    "\n",
    "$R_{t+1} = (p_{t+1}-p_t+D_t)/ P_t$ \n",
    "* Percentage Return = Capital Gains/Loss Yield + Dividends Yield\n",
    "\n",
    "$CGY = (p_{t+1}-p_t)/P_t$\n",
    "\n",
    "$DY = D_t/P_t$\n",
    "\n",
    "#### Fisher Equation\n",
    "\n",
    "$1+R=(1+r)(1+h)$, where\n",
    "    \n",
    "   **R** = nominal return\n",
    "    \n",
    "   **r** = real rate of return\n",
    "    \n",
    "   **h** = rate of inflation"
   ]
  },
  {
   "cell_type": "markdown",
   "metadata": {},
   "source": [
    "### Using financial data to compare performance\n",
    "\n",
    "* make sure that all data given use the same time periods\n",
    "\n",
    "(refer to textbook's table observing financial asset performance ranging from 1948 - 2014)\n",
    "\n",
    "![p1.png](https://github.com/mandarinJelly/Fundamentals-of-Corporate-Finance/blob/master/Graphs/p1.png?raw=true)\n",
    "\n",
    "Resources to get data: | (tossed in table to save room)\n",
    "--- | ---\n",
    "TSX | NYSE\n",
    "NASDAQ | Bloomberg\n",
    "Yahoo Finance | WRDS (CRSP/COMPUSTAT)\n",
    "\n",
    "- report (source of data, date range, frequency)\n",
    "\n",
    "### Sumarizing Returns\n",
    "\n",
    "Centre of Distriution | Dispersion of the distribution\n",
    "--- | ---\n",
    "Arithmetic AVG Return (mean) - common (return) | Variance and standard deviation of returns - common (risk)\n",
    "Geometric AVG Return | Range - quick analysis \n",
    "   | Value at Risk - focuses on what is at risk\n",
    "   | Semi-variance\n",
    "   "
   ]
  },
  {
   "cell_type": "markdown",
   "metadata": {},
   "source": [
    "$\\overline{R}=\\sum_{i}^{T} R_t/T$"
   ]
  },
  {
   "cell_type": "code",
   "execution_count": null,
   "metadata": {},
   "outputs": [],
   "source": []
  }
 ],
 "metadata": {
  "kernelspec": {
   "display_name": "Python 3",
   "language": "python",
   "name": "python3"
  },
  "language_info": {
   "codemirror_mode": {
    "name": "ipython",
    "version": 3
   },
   "file_extension": ".py",
   "mimetype": "text/x-python",
   "name": "python",
   "nbconvert_exporter": "python",
   "pygments_lexer": "ipython3",
   "version": "3.7.6"
  }
 },
 "nbformat": 4,
 "nbformat_minor": 4
}
